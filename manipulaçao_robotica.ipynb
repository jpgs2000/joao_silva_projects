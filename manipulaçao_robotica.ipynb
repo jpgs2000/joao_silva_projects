{
 "cells": [
  {
   "cell_type": "markdown",
   "metadata": {},
   "source": [
    "# Grasping analysis for robotic hands"
   ]
  },
  {
   "cell_type": "markdown",
   "metadata": {},
   "source": [
    "This project was to create two classes, using the Sympy library, in order to calculate (symbolically) the Grasp matrix, **G**, and the Hand Jacobian, **J**, which are important for analyzing the Grasping of a robot's hand."
   ]
  },
  {
   "cell_type": "code",
   "execution_count": 1,
   "metadata": {},
   "outputs": [],
   "source": [
    "import sympy as sp\n",
    "import numpy as np"
   ]
  },
  {
   "cell_type": "code",
   "execution_count": 5,
   "metadata": {},
   "outputs": [],
   "source": [
    "class Grasp_hand:\n",
    "    def __init__(self, Ri,n_c,n_q,cp, ciei,zi):\n",
    "        \"\"\"Classe for Grasping analysis in 3D\n",
    "\n",
    "        Args:\n",
    "            Ri (sympy.Matrix): rotactional matrix\n",
    "            n_c (int): number of contact points of the hand\n",
    "            n_q (int): number of joints of the hand\n",
    "            cp (list): lsit of vectors (sympy.Matrix) for the J matrix\n",
    "            ciei (list): list of vectors (sympy.Matrix) for the G matrix\n",
    "            zi (list): list of vectors (sympy.Matrix) with the z axis for the J matrix\n",
    "        \"\"\"\n",
    "        self.rx,self.ry,self.rz = sp.symbols(\"r_x r_y r_z\")\n",
    "        self.Ri = Ri\n",
    "        self.S = sp.Matrix([[0, -self.rz, self.ry],[self.rz,0,-self.rx],[-self.ry,self.rx,0]])\n",
    "        self.cp = cp\n",
    "        self.n_c = n_c\n",
    "        self.n_q = n_q\n",
    "        self.ciei = ciei\n",
    "        self.zi = zi\n",
    "        self.R_barra = []\n",
    "        self.G_T_barra = None\n",
    "        self.J_barra = None\n",
    "        self.J = None\n",
    "        self.G_T = None\n",
    "\n",
    "    def get_g_t_barra(self):\n",
    "        \"\"\"Generate the transpose of the G matrix before the selection matrix (H)\n",
    "\n",
    "        Returns:\n",
    "            sympy.Matrix: the transpose of the G matrix.\n",
    "        \"\"\"\n",
    "        ind = sp.eye(3)\n",
    "        zeros = sp.zeros(3)\n",
    "        Gi_T_barra = []\n",
    "        for i in range(self.n_c):\n",
    "            Spi = self.S.subs([(self.rx,self.cp[i].row(0)[0]),(self.ry,self.cp[i].row(1)[0]),(self.rz,self.cp[i].row(2)[0])])\n",
    "            Pi = ind.row_insert(0,zeros)\n",
    "            Ri_barra = self.Ri[i].row_insert(0,zeros)\n",
    "            Pi = Pi.col_insert(0,Spi.row_insert(0,ind))\n",
    "            Ri_barra = Ri_barra.col_insert(0,zeros.row_insert(0,self.Ri[i]))\n",
    "            self.R_barra.append(Ri_barra)\n",
    "            Gi_T_barra.append((Ri_barra.T)*(Pi.T))\n",
    "        self.G_T_barra = Gi_T_barra[-1].row_insert(0,Gi_T_barra[-2])\n",
    "        for i in range(3,len(Gi_T_barra)+1):\n",
    "            self.G_T_barra = self.G_T_barra.row_insert(0,Gi_T_barra[-i])\n",
    "        return self.G_T_barra\n",
    "\n",
    "    def d_i_j(self,joint,c=0,z=0):\n",
    "        if joint:\n",
    "            Sc = self.S.subs([(self.rx,c.row(0)[0]),(self.ry,c.row(1)[0]),(self.rz,c.row(2)[0])])\n",
    "            return Sc*z\n",
    "        else:\n",
    "            return sp.Matrix([0,0,0])\n",
    "\n",
    "    def k_i_j(self,joint,z=0):\n",
    "        if joint:\n",
    "            return z\n",
    "        else:\n",
    "            return sp.Matrix([0,0,0])\n",
    "\n",
    "    def get_j_barra(self):\n",
    "        \"\"\"Generate the J matrix before the selection matrix (H)\n",
    "\n",
    "        Returns:\n",
    "            sympy.Matrix: the J matrix before the selection matrix (H).\n",
    "        \"\"\"\n",
    "        Ji_barra = []\n",
    "        for i in range(self.n_c):\n",
    "            d = []\n",
    "            k = []\n",
    "            index = 0\n",
    "            for j in range(len(self.ciei[i])):\n",
    "                if self.ciei[i][j] != 0:\n",
    "                    try:\n",
    "                        d.append(self.d_i_j(True,c=self.ciei[i][j],z=self.zi[i][j]))\n",
    "                        k.append(self.k_i_j(True,z=zi[i][j]))\n",
    "                    except:\n",
    "                        d.append(self.d_i_j(True,c=self.ciei[i][j]))\n",
    "                        k.append(self.k_i_j(True))\n",
    "                else:\n",
    "                    d.append(self.d_i_j(False))\n",
    "                    k.append(self.k_i_j(False))\n",
    "                index += 1\n",
    "            Zi = sp.Matrix([d,k])\n",
    "            Ji_barra.append((self.R_barra[i].T)*(Zi))\n",
    "        if self.n_c > 1:\n",
    "            self.J_barra = Ji_barra[-1].row_insert(0,Ji_barra[-2])\n",
    "            for i in range(3,len(Ji_barra)+1):\n",
    "                self.J_barra = self.J_barra.row_insert(0,Ji_barra[-i])\n",
    "        else:\n",
    "            self.J_barra = Ji_barra[0]\n",
    "        return self.J_barra\n",
    "\n",
    "    def get_G_T(self,H):\n",
    "        \"\"\"Returns the transpose of the G matrix after the selection matrix (H)\n",
    "\n",
    "        Args:\n",
    "            H (sympy.Matrix): selection matrix\n",
    "\n",
    "        Returns:\n",
    "            sympy.Matrix: the transpose of the G matrix after the selection matrix (H)\n",
    "        \"\"\"\n",
    "        self.G_T = H*self.G_T_barra\n",
    "        return self.G_T\n",
    "\n",
    "    def get_J(self,H):\n",
    "        \"\"\"Returns the J matrix after the selection matrix (H)\n",
    "\n",
    "        Args:\n",
    "            H (sympy.Matrix): selection matrix\n",
    "\n",
    "        Returns:\n",
    "            sympy.Matrix: the J matrix after the selection matrix (H)\n",
    "        \"\"\"\n",
    "        self.J = H*self.J_barra\n",
    "        return self.J\n",
    "\n",
    "    def get_n_space(self,M):\n",
    "        \"\"\"Get the null space of a matrix M\n",
    "\n",
    "        Args:\n",
    "            M (sympy.Matrix): a matrix of the sympy\n",
    "\n",
    "        Returns:\n",
    "            sympy.Matrix: a matrix with the basis of the null space \n",
    "        \"\"\"\n",
    "        n = M.nullspace()\n",
    "        if len(n) > 0:\n",
    "            n_m = M.nullspace()[0]\n",
    "            if len(n) > 1: \n",
    "                for i in range(1,len(M.nullspace())):\n",
    "                    n_m = n_m.col_insert(i,M.nullspace()[i])\n",
    "            return n_m\n",
    "        else:\n",
    "            return n\n",
    "    \n",
    "    def get_c_space(self,M):\n",
    "        \"\"\"Get the column space of a matrix M\n",
    "\n",
    "        Args:\n",
    "            M (sympy.Matrix): a matrix of the sympy\n",
    "\n",
    "        Returns:\n",
    "            sympy.Matrix: a matrix with the basis of the column space \n",
    "        \"\"\"\n",
    "        r = M.columnspace()\n",
    "        if len(r) > 0:\n",
    "            r_m = M.columnspace()[0]\n",
    "            if len(r) > 1: \n",
    "                for i in range(1,len(M.columnspace())):\n",
    "                    r_m = r_m.col_insert(i,M.columnspace()[i])\n",
    "            return r_m\n",
    "        else:\n",
    "            return r\n",
    "    \n"
   ]
  },
  {
   "cell_type": "code",
   "execution_count": 6,
   "metadata": {},
   "outputs": [],
   "source": [
    "class Graps_hand_2d(Grasp_hand):\n",
    "    def __init__(self, Ri, n_c, n_q, cp, ciei):\n",
    "        \"\"\"Classe for Grasping analysis in 2D\n",
    "\n",
    "        Args:\n",
    "            Ri (sympy.Matrix): rotactional matrix\n",
    "            n_c (int): number of contact points of the hand\n",
    "            n_q (int): number of joints of the hand\n",
    "            cp (list): lsit of vectors (sympy.Matrix) for the J matrix\n",
    "            ciei (list): list of vectors (sympy.Matrix) for the G matrix\n",
    "            zi (list): list of vectors (sympy.Matrix) with the z axis for the J matrix\n",
    "        \"\"\"\n",
    "        super().__init__(Ri, n_c, n_q, cp, ciei, zi=0)\n",
    "        self.S = sp.Matrix([[-self.ry, self.rx]])\n",
    "\n",
    "    def get_g_t_barra(self):\n",
    "        ind = sp.eye(2)\n",
    "        Gi_T_barra = []\n",
    "        zeros = sp.zeros(1,2)\n",
    "        for i in range(self.n_c):\n",
    "            Spi = self.S.subs([(self.rx,self.cp[i].row(0)[0]),(self.ry,self.cp[i].row(1)[0])])\n",
    "            Pi = zeros.T.row_insert(2,sp.Matrix([1]))\n",
    "            Ri_barra = zeros.T.row_insert(2,sp.Matrix([1]))\n",
    "            Pi = Pi.col_insert(0,ind.row_insert(2,Spi))\n",
    "            Ri_barra = Ri_barra.col_insert(0,zeros.row_insert(0,self.Ri[i]))\n",
    "            self.R_barra.append(Ri_barra)\n",
    "            Gi_T_barra.append((Ri_barra.T)*(Pi.T))\n",
    "        self.G_T_barra = Gi_T_barra[-1].row_insert(0,Gi_T_barra[-2])\n",
    "        for i in range(3,len(Gi_T_barra)+1):\n",
    "            self.G_T_barra = self.G_T_barra.row_insert(0,Gi_T_barra[-i])\n",
    "        return self.G_T_barra\n",
    "\n",
    "\n",
    "    def d_i_j(self,joint,c=0):\n",
    "        if joint:\n",
    "            Sc = self.S.subs([(self.rx,c.row(0)[0]),(self.ry,c.row(1)[0])])\n",
    "            return Sc.T\n",
    "        else:\n",
    "            return sp.Matrix([0,0])\n",
    "\n",
    "    def k_i_j(self,joint,z=0):\n",
    "        if joint:\n",
    "            return 1\n",
    "        else:\n",
    "            return 0"
   ]
  },
  {
   "cell_type": "markdown",
   "metadata": {},
   "source": [
    "### Some examples of aplication"
   ]
  },
  {
   "cell_type": "markdown",
   "metadata": {},
   "source": [
    "#### In 3D"
   ]
  },
  {
   "cell_type": "code",
   "execution_count": 14,
   "metadata": {},
   "outputs": [],
   "source": [
    "theta, theta_1,theta_2, l1,l2,l3,l4,l5,l6,l7, r = sp.symbols(\"theta theta_1 theta_2 l_1 l_2 l_3 l_4 l_5 l_6 l_7 r\", real=True)\n",
    "rx,ry,rz = sp.symbols(\"r_x r_y r_z\")\n",
    "Ri = sp.Matrix([[-sp.cos(theta),sp.sin(theta),0],[-sp.sin(theta),-sp.cos(theta),0],[0,0,1]])"
   ]
  },
  {
   "cell_type": "code",
   "execution_count": 15,
   "metadata": {},
   "outputs": [],
   "source": [
    "c1p = sp.Matrix([r*sp.cos(theta_1),r*sp.sin(theta_1),0])\n",
    "c2p = sp.Matrix([r*sp.cos(theta_2),r*sp.sin(theta_2),0])\n",
    "cp = [c1p,c2p]\n",
    "theta_c = [theta_1, theta_2]\n",
    "\n",
    "R_i = [Ri.subs(theta,t) for t in theta_c]\n",
    "\n",
    "c1e1 = sp.Matrix([l2,l1,0])\n",
    "c1e2 = sp.Matrix([l7,l3,0])\n",
    "c2e3 = c2e4 = sp.Matrix([l4,l5,0])\n",
    "c2e5 = sp.Matrix([l6,0,0])\n",
    "z1 = sp.Matrix([0,0,1])\n",
    "z2 = sp.Matrix([0,0,1])\n",
    "z3 = sp.Matrix([0,1,0])\n",
    "z4 = sp.Matrix([-np.sqrt(2)/2,np.sqrt(2)/2,0])\n",
    "z5 = sp.Matrix([0,0,1])\n",
    "ciei = [[c1e1,c1e2,0,0,0], [0,0,c2e3,c2e4,c2e5]]\n",
    "zi = [[z1,z2,0,0,0],[0,0,z3,z4,z5]]"
   ]
  },
  {
   "cell_type": "code",
   "execution_count": 16,
   "metadata": {},
   "outputs": [
    {
     "data": {
      "text/latex": [
       "$\\displaystyle \\left[\\begin{array}{cccccccccccc}1 & 0 & 0 & 0 & 0 & 0 & 0 & 0 & 0 & 0 & 0 & 0\\\\0 & 1 & 0 & 0 & 0 & 0 & 0 & 0 & 0 & 0 & 0 & 0\\\\0 & 0 & 1 & 0 & 0 & 0 & 0 & 0 & 0 & 0 & 0 & 0\\\\0 & 0 & 0 & 1 & 0 & 0 & 0 & 0 & 0 & 0 & 0 & 0\\\\0 & 0 & 0 & 0 & 0 & 0 & 1 & 0 & 0 & 0 & 0 & 0\\\\0 & 0 & 0 & 0 & 0 & 0 & 0 & 1 & 0 & 0 & 0 & 0\\\\0 & 0 & 0 & 0 & 0 & 0 & 0 & 0 & 1 & 0 & 0 & 0\\\\0 & 0 & 0 & 0 & 0 & 0 & 0 & 0 & 0 & 1 & 0 & 0\\end{array}\\right]$"
      ],
      "text/plain": [
       "Matrix([\n",
       "[1, 0, 0, 0, 0, 0, 0, 0, 0, 0, 0, 0],\n",
       "[0, 1, 0, 0, 0, 0, 0, 0, 0, 0, 0, 0],\n",
       "[0, 0, 1, 0, 0, 0, 0, 0, 0, 0, 0, 0],\n",
       "[0, 0, 0, 1, 0, 0, 0, 0, 0, 0, 0, 0],\n",
       "[0, 0, 0, 0, 0, 0, 1, 0, 0, 0, 0, 0],\n",
       "[0, 0, 0, 0, 0, 0, 0, 1, 0, 0, 0, 0],\n",
       "[0, 0, 0, 0, 0, 0, 0, 0, 1, 0, 0, 0],\n",
       "[0, 0, 0, 0, 0, 0, 0, 0, 0, 1, 0, 0]])"
      ]
     },
     "execution_count": 16,
     "metadata": {},
     "output_type": "execute_result"
    }
   ],
   "source": [
    "H = sp.Matrix([[sp.eye(4),sp.zeros(4,8)],[sp.zeros(4,6),sp.eye(4),sp.zeros(4,2)]])\n",
    "H"
   ]
  },
  {
   "cell_type": "code",
   "execution_count": 7,
   "metadata": {},
   "outputs": [],
   "source": [
    "example_3 = Grasp_hand(R_i,2,5,cp,ciei,zi)\n",
    "g_t_barra = example_3.get_g_t_barra()\n",
    "j_barra = example_3.get_j_barra()\n",
    "G_T = example_3.get_G_T(H)\n",
    "J = example_3.get_J(H)"
   ]
  },
  {
   "cell_type": "code",
   "execution_count": 8,
   "metadata": {},
   "outputs": [
    {
     "data": {
      "text/latex": [
       "$\\displaystyle \\left[\\begin{matrix}- \\cos{\\left(\\theta_{1} \\right)} & - \\sin{\\left(\\theta_{1} \\right)} & 0 & 0 & 0 & 0\\\\\\sin{\\left(\\theta_{1} \\right)} & - \\cos{\\left(\\theta_{1} \\right)} & 0 & 0 & 0 & - r \\sin^{2}{\\left(\\theta_{1} \\right)} - r \\cos^{2}{\\left(\\theta_{1} \\right)}\\\\0 & 0 & 1 & r \\sin{\\left(\\theta_{1} \\right)} & - r \\cos{\\left(\\theta_{1} \\right)} & 0\\\\0 & 0 & 0 & - \\cos{\\left(\\theta_{1} \\right)} & - \\sin{\\left(\\theta_{1} \\right)} & 0\\\\- \\cos{\\left(\\theta_{2} \\right)} & - \\sin{\\left(\\theta_{2} \\right)} & 0 & 0 & 0 & 0\\\\\\sin{\\left(\\theta_{2} \\right)} & - \\cos{\\left(\\theta_{2} \\right)} & 0 & 0 & 0 & - r \\sin^{2}{\\left(\\theta_{2} \\right)} - r \\cos^{2}{\\left(\\theta_{2} \\right)}\\\\0 & 0 & 1 & r \\sin{\\left(\\theta_{2} \\right)} & - r \\cos{\\left(\\theta_{2} \\right)} & 0\\\\0 & 0 & 0 & - \\cos{\\left(\\theta_{2} \\right)} & - \\sin{\\left(\\theta_{2} \\right)} & 0\\end{matrix}\\right]$"
      ],
      "text/plain": [
       "Matrix([\n",
       "[-cos(theta_1), -sin(theta_1), 0,              0,               0,                                      0],\n",
       "[ sin(theta_1), -cos(theta_1), 0,              0,               0, -r*sin(theta_1)**2 - r*cos(theta_1)**2],\n",
       "[            0,             0, 1, r*sin(theta_1), -r*cos(theta_1),                                      0],\n",
       "[            0,             0, 0,  -cos(theta_1),   -sin(theta_1),                                      0],\n",
       "[-cos(theta_2), -sin(theta_2), 0,              0,               0,                                      0],\n",
       "[ sin(theta_2), -cos(theta_2), 0,              0,               0, -r*sin(theta_2)**2 - r*cos(theta_2)**2],\n",
       "[            0,             0, 1, r*sin(theta_2), -r*cos(theta_2),                                      0],\n",
       "[            0,             0, 0,  -cos(theta_2),   -sin(theta_2),                                      0]])"
      ]
     },
     "execution_count": 8,
     "metadata": {},
     "output_type": "execute_result"
    }
   ],
   "source": [
    "G_T"
   ]
  },
  {
   "cell_type": "code",
   "execution_count": 9,
   "metadata": {},
   "outputs": [
    {
     "data": {
      "text/latex": [
       "$\\displaystyle \\left[\\begin{matrix}- l_{1} \\cos{\\left(\\theta_{1} \\right)} + l_{2} \\sin{\\left(\\theta_{1} \\right)} & - l_{3} \\cos{\\left(\\theta_{1} \\right)} + l_{7} \\sin{\\left(\\theta_{1} \\right)} & 0 & 0 & 0\\\\l_{1} \\sin{\\left(\\theta_{1} \\right)} + l_{2} \\cos{\\left(\\theta_{1} \\right)} & l_{3} \\sin{\\left(\\theta_{1} \\right)} + l_{7} \\cos{\\left(\\theta_{1} \\right)} & 0 & 0 & 0\\\\0 & 0 & 0 & 0 & 0\\\\0 & 0 & 0 & 0 & 0\\\\0 & 0 & 0 & 0 & l_{6} \\sin{\\left(\\theta_{2} \\right)}\\\\0 & 0 & 0 & 0 & l_{6} \\cos{\\left(\\theta_{2} \\right)}\\\\0 & 0 & l_{4} & 0.707106781186548 l_{4} + 0.707106781186548 l_{5} & 0\\\\0 & 0 & - \\sin{\\left(\\theta_{2} \\right)} & - 0.707106781186548 \\sin{\\left(\\theta_{2} \\right)} + 0.707106781186548 \\cos{\\left(\\theta_{2} \\right)} & 0\\end{matrix}\\right]$"
      ],
      "text/plain": [
       "Matrix([\n",
       "[-l_1*cos(theta_1) + l_2*sin(theta_1), -l_3*cos(theta_1) + l_7*sin(theta_1),             0,                                                                0,                0],\n",
       "[ l_1*sin(theta_1) + l_2*cos(theta_1),  l_3*sin(theta_1) + l_7*cos(theta_1),             0,                                                                0,                0],\n",
       "[                                   0,                                    0,             0,                                                                0,                0],\n",
       "[                                   0,                                    0,             0,                                                                0,                0],\n",
       "[                                   0,                                    0,             0,                                                                0, l_6*sin(theta_2)],\n",
       "[                                   0,                                    0,             0,                                                                0, l_6*cos(theta_2)],\n",
       "[                                   0,                                    0,           l_4,                    0.707106781186548*l_4 + 0.707106781186548*l_5,                0],\n",
       "[                                   0,                                    0, -sin(theta_2), -0.707106781186548*sin(theta_2) + 0.707106781186548*cos(theta_2),                0]])"
      ]
     },
     "execution_count": 9,
     "metadata": {},
     "output_type": "execute_result"
    }
   ],
   "source": [
    "J"
   ]
  },
  {
   "cell_type": "markdown",
   "metadata": {},
   "source": [
    "#### In 2D"
   ]
  },
  {
   "cell_type": "code",
   "execution_count": 10,
   "metadata": {},
   "outputs": [
    {
     "data": {
      "text/latex": [
       "$\\displaystyle \\left[\\begin{matrix}1 & 0 & 0 & 0 & 0 & 0\\\\0 & 1 & 0 & 0 & 0 & 0\\\\0 & 0 & 0 & 1 & 0 & 0\\\\0 & 0 & 0 & 0 & 1 & 0\\end{matrix}\\right]$"
      ],
      "text/plain": [
       "Matrix([\n",
       "[1, 0, 0, 0, 0, 0],\n",
       "[0, 1, 0, 0, 0, 0],\n",
       "[0, 0, 0, 1, 0, 0],\n",
       "[0, 0, 0, 0, 1, 0]])"
      ]
     },
     "execution_count": 10,
     "metadata": {},
     "output_type": "execute_result"
    }
   ],
   "source": [
    "c1p = sp.Matrix([r*sp.cos(theta_1),r*sp.sin(theta_1)])\n",
    "c2p = sp.Matrix([r*sp.cos(theta_2),r*sp.sin(theta_2)])\n",
    "cp = [c1p,c2p]\n",
    "theta_c = [theta_1, theta_2]\n",
    "Ri = sp.Matrix([[-sp.cos(theta),sp.sin(theta)],[-sp.sin(theta),-sp.cos(theta)]])\n",
    "R_i = [Ri.subs(theta,t) for t in theta_c]\n",
    "\n",
    "c1e1 = sp.Matrix([l2,l1])\n",
    "c1e2 = sp.Matrix([l7,l3])\n",
    "c2e3 = c2e4 = sp.Matrix([l4,l5])\n",
    "c2e5 = sp.Matrix([l6,0])\n",
    "ciei = [[c1e1,c1e2,0,0,0], [0,0,0,0,c2e5]]\n",
    "H = sp.Matrix([[sp.eye(2), sp.zeros(2,1),sp.zeros(2,3)], [sp.zeros(2,3),sp.eye(2),sp.zeros(2,1)]])\n",
    "H"
   ]
  },
  {
   "cell_type": "code",
   "execution_count": 11,
   "metadata": {},
   "outputs": [],
   "source": [
    "example_3_2d = Graps_hand_2d(R_i,2,5,cp,ciei)\n",
    "g_t_barra = example_3_2d.get_g_t_barra()\n",
    "j_barra = example_3_2d.get_j_barra()\n",
    "G_T = example_3_2d.get_G_T(H)\n",
    "J = example_3_2d.get_J(H)"
   ]
  },
  {
   "cell_type": "code",
   "execution_count": 12,
   "metadata": {},
   "outputs": [
    {
     "data": {
      "text/latex": [
       "$\\displaystyle \\left[\\begin{matrix}- \\cos{\\left(\\theta_{1} \\right)} & - \\sin{\\left(\\theta_{1} \\right)} & 0\\\\\\sin{\\left(\\theta_{1} \\right)} & - \\cos{\\left(\\theta_{1} \\right)} & - r \\sin^{2}{\\left(\\theta_{1} \\right)} - r \\cos^{2}{\\left(\\theta_{1} \\right)}\\\\- \\cos{\\left(\\theta_{2} \\right)} & - \\sin{\\left(\\theta_{2} \\right)} & 0\\\\\\sin{\\left(\\theta_{2} \\right)} & - \\cos{\\left(\\theta_{2} \\right)} & - r \\sin^{2}{\\left(\\theta_{2} \\right)} - r \\cos^{2}{\\left(\\theta_{2} \\right)}\\end{matrix}\\right]$"
      ],
      "text/plain": [
       "Matrix([\n",
       "[-cos(theta_1), -sin(theta_1),                                      0],\n",
       "[ sin(theta_1), -cos(theta_1), -r*sin(theta_1)**2 - r*cos(theta_1)**2],\n",
       "[-cos(theta_2), -sin(theta_2),                                      0],\n",
       "[ sin(theta_2), -cos(theta_2), -r*sin(theta_2)**2 - r*cos(theta_2)**2]])"
      ]
     },
     "execution_count": 12,
     "metadata": {},
     "output_type": "execute_result"
    }
   ],
   "source": [
    "G_T"
   ]
  },
  {
   "cell_type": "code",
   "execution_count": 13,
   "metadata": {},
   "outputs": [
    {
     "data": {
      "text/latex": [
       "$\\displaystyle \\left[\\begin{matrix}l_{1} \\cos{\\left(\\theta_{1} \\right)} - l_{2} \\sin{\\left(\\theta_{1} \\right)} & l_{3} \\cos{\\left(\\theta_{1} \\right)} - l_{7} \\sin{\\left(\\theta_{1} \\right)} & 0 & 0 & 0\\\\- l_{1} \\sin{\\left(\\theta_{1} \\right)} - l_{2} \\cos{\\left(\\theta_{1} \\right)} & - l_{3} \\sin{\\left(\\theta_{1} \\right)} - l_{7} \\cos{\\left(\\theta_{1} \\right)} & 0 & 0 & 0\\\\0 & 0 & 0 & 0 & - l_{6} \\sin{\\left(\\theta_{2} \\right)}\\\\0 & 0 & 0 & 0 & - l_{6} \\cos{\\left(\\theta_{2} \\right)}\\end{matrix}\\right]$"
      ],
      "text/plain": [
       "Matrix([\n",
       "[ l_1*cos(theta_1) - l_2*sin(theta_1),  l_3*cos(theta_1) - l_7*sin(theta_1), 0, 0,                 0],\n",
       "[-l_1*sin(theta_1) - l_2*cos(theta_1), -l_3*sin(theta_1) - l_7*cos(theta_1), 0, 0,                 0],\n",
       "[                                   0,                                    0, 0, 0, -l_6*sin(theta_2)],\n",
       "[                                   0,                                    0, 0, 0, -l_6*cos(theta_2)]])"
      ]
     },
     "execution_count": 13,
     "metadata": {},
     "output_type": "execute_result"
    }
   ],
   "source": [
    "J"
   ]
  }
 ],
 "metadata": {
  "kernelspec": {
   "display_name": "base",
   "language": "python",
   "name": "python3"
  },
  "language_info": {
   "codemirror_mode": {
    "name": "ipython",
    "version": 3
   },
   "file_extension": ".py",
   "mimetype": "text/x-python",
   "name": "python",
   "nbconvert_exporter": "python",
   "pygments_lexer": "ipython3",
   "version": "3.9.13"
  },
  "orig_nbformat": 4
 },
 "nbformat": 4,
 "nbformat_minor": 2
}
