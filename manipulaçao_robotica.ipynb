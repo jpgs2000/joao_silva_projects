{
 "cells": [
  {
   "cell_type": "code",
   "execution_count": null,
   "metadata": {},
   "outputs": [],
   "source": [
    "import sympy as sp\n",
    "import numpy as np"
   ]
  },
  {
   "cell_type": "code",
   "execution_count": null,
   "metadata": {},
   "outputs": [],
   "source": [
    "theta, theta_1,theta_2, l1,l2,l3,l4,l5,l6,l7, r = sp.symbols(\"theta theta_1 theta_2 l_1 l_2 l_3 l_4 l_5 l_6 l_7 r\", real=True)\n",
    "rx,ry,rz = sp.symbols(\"r_x r_y r_z\")\n",
    "Ri = sp.Matrix([[-sp.cos(theta),sp.sin(theta),0],[-sp.sin(theta),-sp.cos(theta),0],[0,0,1]])"
   ]
  },
  {
   "cell_type": "code",
   "execution_count": null,
   "metadata": {},
   "outputs": [],
   "source": [
    "c1p = sp.Matrix([r*sp.cos(theta_1),r*sp.sin(theta_1),0])\n",
    "c2p = sp.Matrix([r*sp.cos(theta_2),r*sp.sin(theta_2),0])\n",
    "cp = [c1p,c2p]\n",
    "theta_c = [theta_1, theta_2]\n",
    "\n",
    "R_i = [Ri.subs(theta,t) for t in theta_c]\n",
    "\n",
    "c1e1 = sp.Matrix([l2,l1,0])\n",
    "c1e2 = sp.Matrix([l7,l3,0])\n",
    "c2e3 = c2e4 = sp.Matrix([l4,l5,0])\n",
    "c2e5 = sp.Matrix([l6,0,0])\n",
    "z1 = sp.Matrix([0,0,1])\n",
    "z2 = sp.Matrix([0,0,1])\n",
    "z3 = sp.Matrix([0,1,0])\n",
    "z4 = sp.Matrix([-np.sqrt(2)/2,np.sqrt(2)/2,0])\n",
    "z5 = sp.Matrix([0,0,1])\n",
    "ciei = [[c1e1,c1e2,0,0,0], [0,0,c2e3,c2e4,c2e5]]\n",
    "zi = [[z1,z2,0,0,0],[0,0,z3,z4,z5]]"
   ]
  },
  {
   "cell_type": "code",
   "execution_count": null,
   "metadata": {},
   "outputs": [],
   "source": [
    "H = sp.Matrix([[sp.eye(4),sp.zeros(4,8)],[sp.zeros(4,6),sp.eye(4),sp.zeros(4,2)]])\n",
    "H"
   ]
  },
  {
   "cell_type": "code",
   "execution_count": null,
   "metadata": {},
   "outputs": [],
   "source": [
    "class Grasp_hand:\n",
    "    def __init__(self, Ri,n_c,n_q,cp, ciei,zi):\n",
    "        self.rx,self.ry,self.rz = sp.symbols(\"r_x r_y r_z\")\n",
    "        self.Ri = Ri\n",
    "        self.S = sp.Matrix([[0, -self.rz, self.ry],[self.rz,0,-self.rx],[-self.ry,self.rx,0]])\n",
    "        self.cp = cp\n",
    "        self.n_c = n_c\n",
    "        self.n_q = n_q\n",
    "        self.ciei = ciei\n",
    "        self.zi = zi\n",
    "        self.R_barra = []\n",
    "        self.G_T_barra = None\n",
    "        self.J_barra = None\n",
    "        self.J = None\n",
    "        self.G_T = None\n",
    "\n",
    "    def get_g_t_barra(self):\n",
    "        ind = sp.eye(3)\n",
    "        zeros = sp.zeros(3)\n",
    "        Gi_T_barra = []\n",
    "        for i in range(self.n_c):\n",
    "            Spi = self.S.subs([(self.rx,self.cp[i].row(0)[0]),(self.ry,self.cp[i].row(1)[0]),(self.rz,self.cp[i].row(2)[0])])\n",
    "            Pi = ind.row_insert(0,zeros)\n",
    "            Ri_barra = self.Ri[i].row_insert(0,zeros)\n",
    "            Pi = Pi.col_insert(0,Spi.row_insert(0,ind))\n",
    "            Ri_barra = Ri_barra.col_insert(0,zeros.row_insert(0,self.Ri[i]))\n",
    "            self.R_barra.append(Ri_barra)\n",
    "            Gi_T_barra.append((Ri_barra.T)*(Pi.T))\n",
    "        self.G_T_barra = Gi_T_barra[-1].row_insert(0,Gi_T_barra[-2])\n",
    "        for i in range(3,len(Gi_T_barra)+1):\n",
    "            self.G_T_barra = self.G_T_barra.row_insert(0,Gi_T_barra[-i])\n",
    "        return self.G_T_barra\n",
    "\n",
    "    def d_i_j(self,joint,c=0,z=0):\n",
    "        if joint:\n",
    "            Sc = self.S.subs([(self.rx,c.row(0)[0]),(self.ry,c.row(1)[0]),(self.rz,c.row(2)[0])])\n",
    "            return Sc*z\n",
    "        else:\n",
    "            return sp.Matrix([0,0,0])\n",
    "\n",
    "    def k_i_j(self,joint,z=0):\n",
    "        if joint:\n",
    "            return z\n",
    "        else:\n",
    "            return sp.Matrix([0,0,0])\n",
    "\n",
    "    def get_j_barra(self):\n",
    "        Ji_barra = []\n",
    "        for i in range(self.n_c):\n",
    "            d = []\n",
    "            k = []\n",
    "            index = 0\n",
    "            for j in range(len(self.ciei[i])):\n",
    "                if self.ciei[i][j] != 0:\n",
    "                    try:\n",
    "                        d.append(self.d_i_j(True,c=self.ciei[i][j],z=self.zi[i][j]))\n",
    "                        k.append(self.k_i_j(True,z=zi[i][j]))\n",
    "                    except:\n",
    "                        d.append(self.d_i_j(True,c=self.ciei[i][j]))\n",
    "                        k.append(self.k_i_j(True))\n",
    "                else:\n",
    "                    d.append(self.d_i_j(False))\n",
    "                    k.append(self.k_i_j(False))\n",
    "                index += 1\n",
    "            Zi = sp.Matrix([d,k])\n",
    "            Ji_barra.append((self.R_barra[i].T)*(Zi))\n",
    "        if self.n_c > 1:\n",
    "            self.J_barra = Ji_barra[-1].row_insert(0,Ji_barra[-2])\n",
    "            for i in range(3,len(Ji_barra)+1):\n",
    "                self.J_barra = self.J_barra.row_insert(0,Ji_barra[-i])\n",
    "        else:\n",
    "            self.J_barra = Ji_barra[0]\n",
    "        return self.J_barra\n",
    "\n",
    "    def get_G_T(self,H):\n",
    "        self.G_T = H*self.G_T_barra\n",
    "        return self.G_T\n",
    "\n",
    "    def get_J(self,H):\n",
    "        self.J = H*self.J_barra\n",
    "        return self.J\n",
    "\n",
    "    def get_n_space(self,M):\n",
    "        n = M.nullspace()\n",
    "        if len(n) > 0:\n",
    "            n_m = M.nullspace()[0]\n",
    "            if len(n) > 1: \n",
    "                for i in range(1,len(M.nullspace())):\n",
    "                    n_m = n_m.col_insert(i,M.nullspace()[i])\n",
    "            return n_m\n",
    "        else:\n",
    "            return n\n",
    "    \n",
    "    def get_c_space(self,M):\n",
    "        r = M.columnspace()\n",
    "        if len(r) > 0:\n",
    "            r_m = M.columnspace()[0]\n",
    "            if len(r) > 1: \n",
    "                for i in range(1,len(M.columnspace())):\n",
    "                    r_m = r_m.col_insert(i,M.columnspace()[i])\n",
    "            return r_m\n",
    "        else:\n",
    "            return r\n",
    "    \n"
   ]
  },
  {
   "cell_type": "code",
   "execution_count": null,
   "metadata": {},
   "outputs": [],
   "source": [
    "class Graps_hand_2d(Grasp_hand):\n",
    "    def __init__(self, Ri, n_c, n_q, cp, ciei):\n",
    "        super().__init__(Ri, n_c, n_q, cp, ciei, zi=0)\n",
    "        self.S = sp.Matrix([[-self.ry, self.rx]])\n",
    "\n",
    "    def get_g_t_barra(self):\n",
    "        ind = sp.eye(2)\n",
    "        Gi_T_barra = []\n",
    "        zeros = sp.zeros(1,2)\n",
    "        for i in range(self.n_c):\n",
    "            Spi = self.S.subs([(self.rx,self.cp[i].row(0)[0]),(self.ry,self.cp[i].row(1)[0])])\n",
    "            Pi = zeros.T.row_insert(2,sp.Matrix([1]))\n",
    "            Ri_barra = zeros.T.row_insert(2,sp.Matrix([1]))\n",
    "            Pi = Pi.col_insert(0,ind.row_insert(2,Spi))\n",
    "            Ri_barra = Ri_barra.col_insert(0,zeros.row_insert(0,self.Ri[i]))\n",
    "            self.R_barra.append(Ri_barra)\n",
    "            Gi_T_barra.append((Ri_barra.T)*(Pi.T))\n",
    "        self.G_T_barra = Gi_T_barra[-1].row_insert(0,Gi_T_barra[-2])\n",
    "        for i in range(3,len(Gi_T_barra)+1):\n",
    "            self.G_T_barra = self.G_T_barra.row_insert(0,Gi_T_barra[-i])\n",
    "        return self.G_T_barra\n",
    "\n",
    "\n",
    "    def d_i_j(self,joint,c=0):\n",
    "        if joint:\n",
    "            Sc = self.S.subs([(self.rx,c.row(0)[0]),(self.ry,c.row(1)[0])])\n",
    "            return Sc.T\n",
    "        else:\n",
    "            return sp.Matrix([0,0])\n",
    "\n",
    "    def k_i_j(self,joint,z=0):\n",
    "        if joint:\n",
    "            return 1\n",
    "        else:\n",
    "            return 0"
   ]
  },
  {
   "cell_type": "code",
   "execution_count": null,
   "metadata": {},
   "outputs": [],
   "source": [
    "example_3 = Grasp_hand(R_i,2,5,cp,ciei,zi)\n",
    "g_t_barra = example_3.get_g_t_barra()\n",
    "j_barra = example_3.get_j_barra()\n",
    "G_T = example_3.get_G_T(H)\n",
    "J = example_3.get_J(H)"
   ]
  },
  {
   "cell_type": "code",
   "execution_count": null,
   "metadata": {},
   "outputs": [],
   "source": [
    "c1p = sp.Matrix([r*sp.cos(theta_1),r*sp.sin(theta_1)])\n",
    "c2p = sp.Matrix([r*sp.cos(theta_2),r*sp.sin(theta_2)])\n",
    "cp = [c1p,c2p]\n",
    "theta_c = [theta_1, theta_2]\n",
    "Ri = sp.Matrix([[-sp.cos(theta),sp.sin(theta)],[-sp.sin(theta),-sp.cos(theta)]])\n",
    "R_i = [Ri.subs(theta,t) for t in theta_c]\n",
    "\n",
    "c1e1 = sp.Matrix([l2,l1])\n",
    "c1e2 = sp.Matrix([l7,l3])\n",
    "c2e3 = c2e4 = sp.Matrix([l4,l5])\n",
    "c2e5 = sp.Matrix([l6,0])\n",
    "ciei = [[c1e1,c1e2,0,0,0], [0,0,0,0,c2e5]]\n",
    "H = sp.Matrix([[sp.eye(2), sp.zeros(2,1),sp.zeros(2,3)], [sp.zeros(2,3),sp.eye(2),sp.zeros(2,1)]])\n",
    "H"
   ]
  },
  {
   "cell_type": "code",
   "execution_count": null,
   "metadata": {},
   "outputs": [],
   "source": [
    "example_3_2d = Graps_hand_2d(R_i,2,5,cp,ciei)\n",
    "g_t_barra = example_3_2d.get_g_t_barra()\n",
    "j_barra = example_3_2d.get_j_barra()\n",
    "G_T = example_3_2d.get_G_T(H)\n",
    "J = example_3_2d.get_J(H)"
   ]
  },
  {
   "cell_type": "code",
   "execution_count": null,
   "metadata": {},
   "outputs": [],
   "source": [
    "l1,l2,l3,l4,l5,l6,l7,l8 = sp.symbols(\"l_1 l_2 l_3 l_4 l_5 l_6 l_7 l_8\", real=True)\n",
    "Ri = [sp.Matrix([[-0.8, -0.6], [0.6,-0.8]]), sp.Matrix([[1, 0], [0,1]])]\n",
    "cp = [sp.Matrix([l7*0.8 +l6*0.6,-0.6*l7 + 0.8*l6]),sp.Matrix([-l8,0])]\n",
    "ciei = [[sp.Matrix([0,l1]),sp.Matrix([-l2,0]),0], \n",
    "        [0,0,sp.Matrix([0,l1])]]#sp.Matrix([0,l3]),sp.Matrix([l5,l3]),sp.Matrix([l5,l3-l4]),sp.Matrix([0,l3-l4])]]\n"
   ]
  },
  {
   "cell_type": "code",
   "execution_count": null,
   "metadata": {},
   "outputs": [],
   "source": [
    "H = sp.Matrix([[sp.eye(2), sp.zeros(2,1),sp.zeros(2,3)], [sp.zeros(2,3),sp.eye(2),sp.zeros(2,1)]])\n",
    "H"
   ]
  },
  {
   "cell_type": "code",
   "execution_count": null,
   "metadata": {},
   "outputs": [],
   "source": [
    "example_2 = Graps_hand_2d(Ri,2,3,cp,ciei)\n",
    "g_t_barra = example_2.get_g_t_barra()\n",
    "j_barra = example_2.get_j_barra()\n",
    "G_T = example_2.get_G_T(H)\n",
    "J = example_2.get_J(H)"
   ]
  },
  {
   "cell_type": "code",
   "execution_count": null,
   "metadata": {},
   "outputs": [],
   "source": [
    "J.T"
   ]
  },
  {
   "cell_type": "code",
   "execution_count": null,
   "metadata": {},
   "outputs": [],
   "source": [
    "J = J.subs([(l1,2.89),(l2,0.75)])\n",
    "example_2.get_n_space(J.T)"
   ]
  }
 ],
 "metadata": {
  "kernelspec": {
   "display_name": "base",
   "language": "python",
   "name": "python3"
  },
  "language_info": {
   "codemirror_mode": {
    "name": "ipython",
    "version": 3
   },
   "file_extension": ".py",
   "mimetype": "text/x-python",
   "name": "python",
   "nbconvert_exporter": "python",
   "pygments_lexer": "ipython3",
   "version": "3.9.13"
  },
  "orig_nbformat": 4
 },
 "nbformat": 4,
 "nbformat_minor": 2
}
